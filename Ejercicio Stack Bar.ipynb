{
 "cells": [
  {
   "cell_type": "code",
   "execution_count": null,
   "id": "perceived-valuation",
   "metadata": {},
   "outputs": [],
   "source": [
    "import pandas as pd\n",
    "import numpy as np\n",
    "import seaborn as sns\n",
    "import matplotlib as plt\n",
    "import matplotlib.pyplot as plt\n",
    "import altair as alt\n",
    "from vega_datasets import data"
   ]
  },
  {
   "cell_type": "code",
   "execution_count": null,
   "id": "authentic-temperature",
   "metadata": {},
   "outputs": [],
   "source": [
    "pd.set_option('display.max_columns', None) #Mostrar todas las columnas\n",
    "sns.set(rc={'figure.figsize':(12.7,8.6)}) #Todas las visualizaciones con ese tamaño"
   ]
  },
  {
   "cell_type": "code",
   "execution_count": null,
   "id": "flush-average",
   "metadata": {},
   "outputs": [],
   "source": [
    "df_SECOP = pd.read_csv('Datos_SECOP_LT.csv', \n",
    "                 sep = ',',\n",
    "                 index_col=0,\n",
    "                 dtype={\n",
    "                     'Nit Entidad': str\n",
    "                 })\n",
    "df_SECOP.head()"
   ]
  },
  {
   "cell_type": "markdown",
   "id": "synthetic-sound",
   "metadata": {},
   "source": [
    "**Ejercicio**: Realizar una visualización de barras apiladas normalizadas dónde se observe el monto del _precio base_ por el tipo de _orden de entidad_ desagregado por la _fase_ de la contratación"
   ]
  },
  {
   "cell_type": "code",
   "execution_count": 1,
   "id": "fuzzy-yield",
   "metadata": {},
   "outputs": [
    {
     "ename": "NameError",
     "evalue": "name 'df_SECOP_mun' is not defined",
     "output_type": "error",
     "traceback": [
      "\u001b[1;31m---------------------------------------------------------------------------\u001b[0m",
      "\u001b[1;31mNameError\u001b[0m                                 Traceback (most recent call last)",
      "\u001b[1;32m<ipython-input-1-7fbe87baafc8>\u001b[0m in \u001b[0;36m<module>\u001b[1;34m\u001b[0m\n\u001b[1;32m----> 1\u001b[1;33m \u001b[0mdf_SECOP_mun\u001b[0m\u001b[1;33m[\u001b[0m\u001b[1;34m\"Fase\"\u001b[0m\u001b[1;33m]\u001b[0m\u001b[1;33m.\u001b[0m\u001b[0mvalue_counts\u001b[0m\u001b[1;33m(\u001b[0m\u001b[1;33m)\u001b[0m\u001b[1;33m\u001b[0m\u001b[1;33m\u001b[0m\u001b[0m\n\u001b[0m",
      "\u001b[1;31mNameError\u001b[0m: name 'df_SECOP_mun' is not defined"
     ]
    }
   ],
   "source": [
    "df_SECOP_mun[\"Fase\"].value_counts()"
   ]
  },
  {
   "cell_type": "code",
   "execution_count": null,
   "id": "verified-popularity",
   "metadata": {},
   "outputs": [],
   "source": []
  }
 ],
 "metadata": {
  "kernelspec": {
   "display_name": "Python 3",
   "language": "python",
   "name": "python3"
  },
  "language_info": {
   "codemirror_mode": {
    "name": "ipython",
    "version": 3
   },
   "file_extension": ".py",
   "mimetype": "text/x-python",
   "name": "python",
   "nbconvert_exporter": "python",
   "pygments_lexer": "ipython3",
   "version": "3.7.3"
  }
 },
 "nbformat": 4,
 "nbformat_minor": 5
}
